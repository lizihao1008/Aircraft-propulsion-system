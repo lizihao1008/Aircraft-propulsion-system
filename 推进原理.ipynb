{
 "cells": [
  {
   "cell_type": "markdown",
   "metadata": {},
   "source": [
    "<font size=15>\n",
    "<font face=\"Times New Roman\">\n",
    "    <center>Final Project of Aircraft Propulsion System</center>\n",
    "</font>\n",
    "    \n",
    "<font size=6>\n",
    "    <font face=\"Times New Roman\">\n",
    "    <center>Language：Python</center>\n",
    "    <center>Environment：Jupyter lab</center>\n",
    "    <center>Output：LaTeX</center>\n",
    "</font>\n",
    "    \n",
    "    "
   ]
  },
  {
   "cell_type": "code",
   "execution_count": 1,
   "metadata": {},
   "outputs": [
    {
     "name": "stdout",
     "output_type": "stream",
     "text": [
      "Populating the interactive namespace from numpy and matplotlib\n"
     ]
    }
   ],
   "source": [
    "%pylab inline\n",
    "import pandas as pd"
   ]
  },
  {
   "cell_type": "markdown",
   "metadata": {},
   "source": [
    "导入标准大气表"
   ]
  },
  {
   "cell_type": "code",
   "execution_count": 2,
   "metadata": {},
   "outputs": [
    {
     "data": {
      "text/html": [
       "<div>\n",
       "<style scoped>\n",
       "    .dataframe tbody tr th:only-of-type {\n",
       "        vertical-align: middle;\n",
       "    }\n",
       "\n",
       "    .dataframe tbody tr th {\n",
       "        vertical-align: top;\n",
       "    }\n",
       "\n",
       "    .dataframe thead th {\n",
       "        text-align: right;\n",
       "    }\n",
       "</style>\n",
       "<table border=\"1\" class=\"dataframe\">\n",
       "  <thead>\n",
       "    <tr style=\"text-align: right;\">\n",
       "      <th></th>\n",
       "      <th>H</th>\n",
       "      <th>T</th>\n",
       "      <th>P</th>\n",
       "      <th>rho</th>\n",
       "      <th>a</th>\n",
       "    </tr>\n",
       "  </thead>\n",
       "  <tbody>\n",
       "    <tr>\n",
       "      <td>0</td>\n",
       "      <td>0</td>\n",
       "      <td>288.15</td>\n",
       "      <td>101325.2</td>\n",
       "      <td>1.22505</td>\n",
       "      <td>340.29</td>\n",
       "    </tr>\n",
       "    <tr>\n",
       "      <td>1</td>\n",
       "      <td>1000</td>\n",
       "      <td>281.65</td>\n",
       "      <td>89875.8</td>\n",
       "      <td>1.11168</td>\n",
       "      <td>336.43</td>\n",
       "    </tr>\n",
       "    <tr>\n",
       "      <td>2</td>\n",
       "      <td>2000</td>\n",
       "      <td>275.15</td>\n",
       "      <td>79495.6</td>\n",
       "      <td>1.00646</td>\n",
       "      <td>332.53</td>\n",
       "    </tr>\n",
       "    <tr>\n",
       "      <td>3</td>\n",
       "      <td>3000</td>\n",
       "      <td>268.65</td>\n",
       "      <td>70108.7</td>\n",
       "      <td>0.90913</td>\n",
       "      <td>328.58</td>\n",
       "    </tr>\n",
       "    <tr>\n",
       "      <td>4</td>\n",
       "      <td>4000</td>\n",
       "      <td>262.15</td>\n",
       "      <td>61640.7</td>\n",
       "      <td>0.81013</td>\n",
       "      <td>324.58</td>\n",
       "    </tr>\n",
       "    <tr>\n",
       "      <td>5</td>\n",
       "      <td>5000</td>\n",
       "      <td>255.65</td>\n",
       "      <td>54019.9</td>\n",
       "      <td>0.73612</td>\n",
       "      <td>320.53</td>\n",
       "    </tr>\n",
       "    <tr>\n",
       "      <td>6</td>\n",
       "      <td>6000</td>\n",
       "      <td>249.15</td>\n",
       "      <td>47180.8</td>\n",
       "      <td>0.65969</td>\n",
       "      <td>316.43</td>\n",
       "    </tr>\n",
       "    <tr>\n",
       "      <td>7</td>\n",
       "      <td>7000</td>\n",
       "      <td>242.65</td>\n",
       "      <td>41060.4</td>\n",
       "      <td>0.58950</td>\n",
       "      <td>312.27</td>\n",
       "    </tr>\n",
       "    <tr>\n",
       "      <td>8</td>\n",
       "      <td>8000</td>\n",
       "      <td>236.15</td>\n",
       "      <td>35600.1</td>\n",
       "      <td>0.52517</td>\n",
       "      <td>308.06</td>\n",
       "    </tr>\n",
       "    <tr>\n",
       "      <td>9</td>\n",
       "      <td>9000</td>\n",
       "      <td>229.65</td>\n",
       "      <td>30742.9</td>\n",
       "      <td>0.46635</td>\n",
       "      <td>303.79</td>\n",
       "    </tr>\n",
       "    <tr>\n",
       "      <td>10</td>\n",
       "      <td>10000</td>\n",
       "      <td>223.15</td>\n",
       "      <td>26435.8</td>\n",
       "      <td>0.41270</td>\n",
       "      <td>299.46</td>\n",
       "    </tr>\n",
       "    <tr>\n",
       "      <td>11</td>\n",
       "      <td>11000</td>\n",
       "      <td>216.65</td>\n",
       "      <td>22631.8</td>\n",
       "      <td>0.36391</td>\n",
       "      <td>295.07</td>\n",
       "    </tr>\n",
       "    <tr>\n",
       "      <td>12</td>\n",
       "      <td>12000</td>\n",
       "      <td>216.65</td>\n",
       "      <td>19330.9</td>\n",
       "      <td>0.31083</td>\n",
       "      <td>295.07</td>\n",
       "    </tr>\n",
       "    <tr>\n",
       "      <td>13</td>\n",
       "      <td>13000</td>\n",
       "      <td>216.65</td>\n",
       "      <td>16510.5</td>\n",
       "      <td>0.26549</td>\n",
       "      <td>295.07</td>\n",
       "    </tr>\n",
       "    <tr>\n",
       "      <td>14</td>\n",
       "      <td>14000</td>\n",
       "      <td>216.65</td>\n",
       "      <td>14102.0</td>\n",
       "      <td>0.22675</td>\n",
       "      <td>295.07</td>\n",
       "    </tr>\n",
       "    <tr>\n",
       "      <td>15</td>\n",
       "      <td>15000</td>\n",
       "      <td>216.65</td>\n",
       "      <td>12044.5</td>\n",
       "      <td>0.19367</td>\n",
       "      <td>295.07</td>\n",
       "    </tr>\n",
       "    <tr>\n",
       "      <td>16</td>\n",
       "      <td>16000</td>\n",
       "      <td>216.65</td>\n",
       "      <td>10287.2</td>\n",
       "      <td>0.16542</td>\n",
       "      <td>295.07</td>\n",
       "    </tr>\n",
       "    <tr>\n",
       "      <td>17</td>\n",
       "      <td>17000</td>\n",
       "      <td>216.65</td>\n",
       "      <td>8786.7</td>\n",
       "      <td>0.14128</td>\n",
       "      <td>295.07</td>\n",
       "    </tr>\n",
       "    <tr>\n",
       "      <td>18</td>\n",
       "      <td>18000</td>\n",
       "      <td>216.65</td>\n",
       "      <td>7504.8</td>\n",
       "      <td>0.12068</td>\n",
       "      <td>295.07</td>\n",
       "    </tr>\n",
       "    <tr>\n",
       "      <td>19</td>\n",
       "      <td>19000</td>\n",
       "      <td>216.65</td>\n",
       "      <td>6410.0</td>\n",
       "      <td>0.10307</td>\n",
       "      <td>295.07</td>\n",
       "    </tr>\n",
       "    <tr>\n",
       "      <td>20</td>\n",
       "      <td>20000</td>\n",
       "      <td>216.65</td>\n",
       "      <td>5474.9</td>\n",
       "      <td>0.08803</td>\n",
       "      <td>295.07</td>\n",
       "    </tr>\n",
       "    <tr>\n",
       "      <td>21</td>\n",
       "      <td>21000</td>\n",
       "      <td>217.65</td>\n",
       "      <td>4677.9</td>\n",
       "      <td>0.07487</td>\n",
       "      <td>295.75</td>\n",
       "    </tr>\n",
       "    <tr>\n",
       "      <td>22</td>\n",
       "      <td>22000</td>\n",
       "      <td>218.65</td>\n",
       "      <td>3999.7</td>\n",
       "      <td>0.06373</td>\n",
       "      <td>296.43</td>\n",
       "    </tr>\n",
       "    <tr>\n",
       "      <td>23</td>\n",
       "      <td>23000</td>\n",
       "      <td>219.65</td>\n",
       "      <td>3422.4</td>\n",
       "      <td>0.05428</td>\n",
       "      <td>297.11</td>\n",
       "    </tr>\n",
       "    <tr>\n",
       "      <td>24</td>\n",
       "      <td>24000</td>\n",
       "      <td>220.65</td>\n",
       "      <td>2930.5</td>\n",
       "      <td>0.04627</td>\n",
       "      <td>297.78</td>\n",
       "    </tr>\n",
       "    <tr>\n",
       "      <td>25</td>\n",
       "      <td>25000</td>\n",
       "      <td>221.65</td>\n",
       "      <td>2511.0</td>\n",
       "      <td>0.03946</td>\n",
       "      <td>298.46</td>\n",
       "    </tr>\n",
       "    <tr>\n",
       "      <td>26</td>\n",
       "      <td>26000</td>\n",
       "      <td>222.65</td>\n",
       "      <td>2133.1</td>\n",
       "      <td>0.03369</td>\n",
       "      <td>299.13</td>\n",
       "    </tr>\n",
       "    <tr>\n",
       "      <td>27</td>\n",
       "      <td>27000</td>\n",
       "      <td>223.65</td>\n",
       "      <td>1847.4</td>\n",
       "      <td>0.02878</td>\n",
       "      <td>299.80</td>\n",
       "    </tr>\n",
       "    <tr>\n",
       "      <td>28</td>\n",
       "      <td>28000</td>\n",
       "      <td>224.65</td>\n",
       "      <td>1586.3</td>\n",
       "      <td>0.02469</td>\n",
       "      <td>300.47</td>\n",
       "    </tr>\n",
       "    <tr>\n",
       "      <td>29</td>\n",
       "      <td>29000</td>\n",
       "      <td>225.65</td>\n",
       "      <td>1362.9</td>\n",
       "      <td>0.02104</td>\n",
       "      <td>301.14</td>\n",
       "    </tr>\n",
       "    <tr>\n",
       "      <td>30</td>\n",
       "      <td>30000</td>\n",
       "      <td>226.65</td>\n",
       "      <td>1171.9</td>\n",
       "      <td>0.01801</td>\n",
       "      <td>301.80</td>\n",
       "    </tr>\n",
       "    <tr>\n",
       "      <td>31</td>\n",
       "      <td>31000</td>\n",
       "      <td>227.65</td>\n",
       "      <td>1008.2</td>\n",
       "      <td>0.01548</td>\n",
       "      <td>302.47</td>\n",
       "    </tr>\n",
       "    <tr>\n",
       "      <td>32</td>\n",
       "      <td>32000</td>\n",
       "      <td>228.65</td>\n",
       "      <td>868.0</td>\n",
       "      <td>0.01323</td>\n",
       "      <td>303.13</td>\n",
       "    </tr>\n",
       "  </tbody>\n",
       "</table>\n",
       "</div>"
      ],
      "text/plain": [
       "        H       T         P      rho       a\n",
       "0       0  288.15  101325.2  1.22505  340.29\n",
       "1    1000  281.65   89875.8  1.11168  336.43\n",
       "2    2000  275.15   79495.6  1.00646  332.53\n",
       "3    3000  268.65   70108.7  0.90913  328.58\n",
       "4    4000  262.15   61640.7  0.81013  324.58\n",
       "5    5000  255.65   54019.9  0.73612  320.53\n",
       "6    6000  249.15   47180.8  0.65969  316.43\n",
       "7    7000  242.65   41060.4  0.58950  312.27\n",
       "8    8000  236.15   35600.1  0.52517  308.06\n",
       "9    9000  229.65   30742.9  0.46635  303.79\n",
       "10  10000  223.15   26435.8  0.41270  299.46\n",
       "11  11000  216.65   22631.8  0.36391  295.07\n",
       "12  12000  216.65   19330.9  0.31083  295.07\n",
       "13  13000  216.65   16510.5  0.26549  295.07\n",
       "14  14000  216.65   14102.0  0.22675  295.07\n",
       "15  15000  216.65   12044.5  0.19367  295.07\n",
       "16  16000  216.65   10287.2  0.16542  295.07\n",
       "17  17000  216.65    8786.7  0.14128  295.07\n",
       "18  18000  216.65    7504.8  0.12068  295.07\n",
       "19  19000  216.65    6410.0  0.10307  295.07\n",
       "20  20000  216.65    5474.9  0.08803  295.07\n",
       "21  21000  217.65    4677.9  0.07487  295.75\n",
       "22  22000  218.65    3999.7  0.06373  296.43\n",
       "23  23000  219.65    3422.4  0.05428  297.11\n",
       "24  24000  220.65    2930.5  0.04627  297.78\n",
       "25  25000  221.65    2511.0  0.03946  298.46\n",
       "26  26000  222.65    2133.1  0.03369  299.13\n",
       "27  27000  223.65    1847.4  0.02878  299.80\n",
       "28  28000  224.65    1586.3  0.02469  300.47\n",
       "29  29000  225.65    1362.9  0.02104  301.14\n",
       "30  30000  226.65    1171.9  0.01801  301.80\n",
       "31  31000  227.65    1008.2  0.01548  302.47\n",
       "32  32000  228.65     868.0  0.01323  303.13"
      ]
     },
     "execution_count": 2,
     "metadata": {},
     "output_type": "execute_result"
    }
   ],
   "source": [
    "table_ = pd.read_csv(\"table.csv\", header=0,usecols=[0,1,2,3,4])\n",
    "table_"
   ]
  },
  {
   "cell_type": "code",
   "execution_count": 3,
   "metadata": {},
   "outputs": [],
   "source": [
    "def parameters(H):\n",
    "    table_ = pd.read_csv(\"table.csv\", header=0,usecols=[0,1,2,3,4])\n",
    "    H0=table_.iloc[:,0]\n",
    "    err = pd.array([abs(H-i) for i in H0])\n",
    "    index = err == min(err)\n",
    "    return float(table_.loc[index,'T']), float(table_.loc[index,'P'])"
   ]
  },
  {
   "cell_type": "markdown",
   "metadata": {},
   "source": [
    "根据给定的高度查国际标准大气数据表，得到静温和静压。"
   ]
  },
  {
   "cell_type": "code",
   "execution_count": 4,
   "metadata": {},
   "outputs": [
    {
     "name": "stdout",
     "output_type": "stream",
     "text": [
      "T_0=223.150000\n",
      "p_0=26435.800000\n"
     ]
    }
   ],
   "source": [
    "Ma_0 = 0.72\n",
    "H = 10000#m\n",
    "T_0, p_0 = parameters(H)\n",
    "print('T_0=%f'%T_0)\n",
    "print('p_0=%f'%p_0)"
   ]
  },
  {
   "cell_type": "markdown",
   "metadata": {},
   "source": [
    "输入其他参数："
   ]
  },
  {
   "cell_type": "code",
   "execution_count": 5,
   "metadata": {},
   "outputs": [],
   "source": [
    "pi_C = 25\n",
    "sigma_i = 0.97\n",
    "eta_c = 0.8422\n",
    "eta_TH = 0.9064\n",
    "eta_TL = 0.9282\n",
    "sigma_b = 0.97\n",
    "eta_b = 0.98\n",
    "eta_mH = 0.98\n",
    "eta_mL = 0.98\n",
    "eta_B = 0.82\n",
    "eta_g = 0.99\n",
    "delta_1 = 0.05\n",
    "delta_2=0.02\n",
    "C_T0 = 0\n",
    "beta_ = 0\n",
    "C_p = 1004.6#J/(kg*K)\n",
    "C_pg = 1234.8#J/(kg*K)\n",
    "k = 1.4\n",
    "k_g = 1.3\n",
    "R = 287.15#J/kg*K\n",
    "H_u = 42900000#J\n",
    "sigma_e = 0.98"
   ]
  },
  {
   "cell_type": "markdown",
   "metadata": {},
   "source": [
    "此高度的声速：\n",
    "$$\n",
    "a_{0}=\\sqrt{k R T_{0}}\n",
    "$$"
   ]
  },
  {
   "cell_type": "code",
   "execution_count": 6,
   "metadata": {},
   "outputs": [
    {
     "name": "stdout",
     "output_type": "stream",
     "text": [
      "299.51382522347774\n"
     ]
    }
   ],
   "source": [
    "a_0 = (k*R*T_0)**0.5\n",
    "print(a_0)"
   ]
  },
  {
   "cell_type": "markdown",
   "metadata": {},
   "source": [
    "发动机工作时进口速度："
   ]
  },
  {
   "cell_type": "code",
   "execution_count": 7,
   "metadata": {},
   "outputs": [
    {
     "name": "stdout",
     "output_type": "stream",
     "text": [
      "215.64995416090397\n"
     ]
    }
   ],
   "source": [
    "c_0=Ma_0*a_0\n",
    "print(c_0)"
   ]
  },
  {
   "cell_type": "markdown",
   "metadata": {},
   "source": [
    "由静参数和给定的飞行马赫数计算总温和总压：\n",
    "$$p_{t0}=p_{0}\\left(1+\\frac{k-1}{2} M a_{0}^{2}\\right)^{k-1}$$\n",
    "$$T_{\\mathrm{t0}}=T_{0}\\left(1+\\frac{k-1}{2} M a_{0}^{2}\\right) $$"
   ]
  },
  {
   "cell_type": "code",
   "execution_count": 8,
   "metadata": {},
   "outputs": [
    {
     "name": "stdout",
     "output_type": "stream",
     "text": [
      "37337.35611195005\n",
      "246.286192\n"
     ]
    }
   ],
   "source": [
    "p_t0 = p_0*(1+(k-1)/2*Ma_0**2)**(k/(k-1))\n",
    "print(p_t0)\n",
    "T_t0 = T_0*(1+(k-1)/2*Ma_0**2)\n",
    "print(T_t0)"
   ]
  },
  {
   "cell_type": "markdown",
   "metadata": {},
   "source": [
    "进气道出口总温和总压：\n",
    "$${c}{p_{t2}=\\sigma_{i} \\times p_{i 0}}$$\n",
    "$${T_{i 2}=T_{i 0}}$$"
   ]
  },
  {
   "cell_type": "code",
   "execution_count": 9,
   "metadata": {},
   "outputs": [
    {
     "name": "stdout",
     "output_type": "stream",
     "text": [
      "36217.23542859155\n",
      "246.286192\n"
     ]
    }
   ],
   "source": [
    "p_t2 = sigma_i*p_t0\n",
    "print(p_t2)\n",
    "T_t2 = T_t0\n",
    "print(T_t2)"
   ]
  },
  {
   "cell_type": "markdown",
   "metadata": {},
   "source": [
    "压气机出口总温和总压：\n",
    "$${p_{\\mathrm{t} 3}=p_{\\mathrm{t} 2} \\times \\pi_{\\mathrm{C}}} $$\n",
    "$${T_{\\mathrm{t} 3}=T_{\\mathrm{t} 2}\\left(1+\\frac{\\pi_c^{\\frac{k-1}{k}}-1}{\\eta_c}\\right)}$$"
   ]
  },
  {
   "cell_type": "code",
   "execution_count": 10,
   "metadata": {},
   "outputs": [
    {
     "name": "stdout",
     "output_type": "stream",
     "text": [
      "905430.8857147887\n",
      "687.4152780569347\n"
     ]
    }
   ],
   "source": [
    "p_t3 = p_t2*pi_C\n",
    "print(p_t3)\n",
    "T_t3 = T_t2*(1+(pi_C**((k-1)/k)-1)/eta_c)\n",
    "print(T_t3)"
   ]
  },
  {
   "cell_type": "markdown",
   "metadata": {},
   "source": [
    "燃烧室出口参数：\n",
    "$$\n",
    "{f=\\frac{W_{\\mathrm{f}}}{W_{3 \\mathrm{a}}}=\\frac{C_{\\mathrm{pg}}\\ T_{\\mathrm{t4}}-C_{p} T_{\\mathrm{t} 3}}{\\eta_{\\mathrm{b}} H_{\\mathrm{u}}-C_{pg}\\  T_{\\mathrm{t4}}}}\n",
    "$$"
   ]
  },
  {
   "cell_type": "markdown",
   "metadata": {},
   "source": [
    "燃烧室出口总温查阅发动机数据取得：\n",
    "$$T_{t4}=1600K$$"
   ]
  },
  {
   "cell_type": "code",
   "execution_count": 11,
   "metadata": {},
   "outputs": [],
   "source": [
    "T_t4 = 1600"
   ]
  },
  {
   "cell_type": "code",
   "execution_count": 12,
   "metadata": {},
   "outputs": [
    {
     "name": "stdout",
     "output_type": "stream",
     "text": [
      "0.03207438595967894\n"
     ]
    }
   ],
   "source": [
    "f_ = (C_pg*T_t4-C_p*T_t3)/(eta_b*H_u-C_pg*T_t4)\n",
    "print(f_)"
   ]
  },
  {
   "cell_type": "markdown",
   "metadata": {},
   "source": [
    "出口总压：\n",
    "$$\n",
    "{p_{\\mathrm{t4}}=p_{\\mathrm{t} 3} \\sigma_{\\mathrm{b}}}\n",
    "$$"
   ]
  },
  {
   "cell_type": "code",
   "execution_count": 13,
   "metadata": {},
   "outputs": [
    {
     "name": "stdout",
     "output_type": "stream",
     "text": [
      "878267.959143345\n"
     ]
    }
   ],
   "source": [
    "p_t4 = p_t3*sigma_b\n",
    "print(p_t4)"
   ]
  },
  {
   "cell_type": "markdown",
   "metadata": {},
   "source": [
    "高压涡轮出口参数：\n",
    "$$\n",
    "\\tau_{\\mathrm{ml}}=\\frac{T_{\\mathrm{t4a}}}{T_{\\mathrm{t4.5}}}=\\frac{\\left(1-\\beta-\\delta_{1}-\\delta_{2}\\right)(1+f)+C_{\\rho} \\delta_{1} T_{\\mathrm{t} 3} /\\left(C_{\\rho \\mathrm{g}} T_{\\mathrm{t4}}\\right)}{\\left(1-\\beta-\\delta_{1}-\\delta_{2}\\right)(1+f)+\\delta_{1}}\n",
    "$$"
   ]
  },
  {
   "cell_type": "code",
   "execution_count": 14,
   "metadata": {},
   "outputs": [
    {
     "name": "stdout",
     "output_type": "stream",
     "text": [
      "0.9677935177519384\n"
     ]
    }
   ],
   "source": [
    "tau_m1 = ((1-beta_-delta_1-delta_2)*(1+f_) + C_p*delta_1*T_t3/(C_pg*T_t4))/((1-beta_-delta_1-delta_2)*(1+f_)+delta_1)\n",
    "print(tau_m1)"
   ]
  },
  {
   "cell_type": "markdown",
   "metadata": {},
   "source": [
    "$$\n",
    "T_{t4a}=T_{t4}\\tau_{ml}\\\\\n",
    "p_{t4a}=p_{t4}\n",
    "$$"
   ]
  },
  {
   "cell_type": "code",
   "execution_count": 15,
   "metadata": {},
   "outputs": [
    {
     "name": "stdout",
     "output_type": "stream",
     "text": [
      "1548.4696284031015\n",
      "878267.959143345\n"
     ]
    }
   ],
   "source": [
    "T_t4a = T_t4*tau_m1\n",
    "p_t4a = p_t4\n",
    "print(T_t4a)\n",
    "print(p_t4a)"
   ]
  },
  {
   "cell_type": "markdown",
   "metadata": {},
   "source": [
    "$$\n",
    "\\frac{T_{\\mathrm{t4a}}}{T_{\\mathrm{t4.5}}}=1-\\frac{C_{p}\\left(T_{\\mathrm{t} 3}-T_{\\mathrm{t} 2}\\right)}{\\left[\\left(1-\\beta-\\delta_{1}-\\delta_{2}\\right)(1+f)+\\delta_{1}\\right] \\eta_{\\mathrm{mH}} c_{p \\mathrm{g}} T_{\\mathrm{t4a}}}\n",
    "$$"
   ]
  },
  {
   "cell_type": "code",
   "execution_count": 16,
   "metadata": {},
   "outputs": [
    {
     "name": "stdout",
     "output_type": "stream",
     "text": [
      "0.7658007152139484\n"
     ]
    }
   ],
   "source": [
    "a = 1 - C_p*(T_t3-T_t2)/((1-beta_-delta_1-delta_2)*(1+f_)+delta_1)/eta_mH/C_pg/T_t4a\n",
    "print(a)"
   ]
  },
  {
   "cell_type": "markdown",
   "metadata": {},
   "source": [
    "$$\n",
    "T_{\\mathrm{t4.5}}=\\frac{T_{\\mathrm{t4.5}}}{T_{\\mathrm{t4a}}} T_{\\mathrm{t4a}}\n",
    "$$"
   ]
  },
  {
   "cell_type": "code",
   "execution_count": 17,
   "metadata": {},
   "outputs": [
    {
     "name": "stdout",
     "output_type": "stream",
     "text": [
      "1185.819148918172\n"
     ]
    }
   ],
   "source": [
    "T_t45 = a*T_t4a\n",
    "print(T_t45)"
   ]
  },
  {
   "cell_type": "markdown",
   "metadata": {},
   "source": [
    "$$\n",
    " \\pi_{\\mathrm{TH}}=\\frac{p_{\\text {t4a }}}{p_{\\text {t4.5 }}} =\\left[1-\\left(1-\\frac{T_{\\text {4.5 }}}{T_{\\text {t4a }}}\\right) / \\eta_{\\text {Th}}\\right]^{-\\frac{k_{\\mathrm{g}}}{k_{\\mathrm{g}}-1}}\n",
    "$$\n"
   ]
  },
  {
   "cell_type": "code",
   "execution_count": 18,
   "metadata": {},
   "outputs": [
    {
     "name": "stdout",
     "output_type": "stream",
     "text": [
      "3.652223518294377\n"
     ]
    }
   ],
   "source": [
    "pi_TH = (1-(1-T_t45/T_t4a)/eta_TH)**(-k_g/(k_g-1))\n",
    "print(pi_TH)"
   ]
  },
  {
   "cell_type": "markdown",
   "metadata": {},
   "source": [
    "$$\n",
    "p_{t4.5}=\\frac{p_{\\text {t4a }}}{\\pi_{\\text {TH}}} \n",
    "$$"
   ]
  },
  {
   "cell_type": "code",
   "execution_count": 19,
   "metadata": {},
   "outputs": [
    {
     "name": "stdout",
     "output_type": "stream",
     "text": [
      "240474.86544676338\n"
     ]
    }
   ],
   "source": [
    "p_t45 = p_t4a/pi_TH\n",
    "print(p_t45)"
   ]
  },
  {
   "cell_type": "markdown",
   "metadata": {},
   "source": [
    "低压涡轮出口参数：\n",
    "$$\n",
    "\\tau_{\\mathrm{m} 2}=\\frac{T_{\\mathrm{t4c}}}{T_{\\mathrm{t} 4.5}}=\\frac{\\left(1-\\beta-\\delta_{1}-\\delta_{2}\\right)(1+f)+\\delta_{1}+\\delta_{2} C_{\\mathrm{p}} T_{\\mathrm{t} 3} /\\left(C_{pg} T_{\\mathrm{4.5}}\\right)}{\\left(1-\\beta-\\delta_{1}-\\delta_{2}\\right)(1+f)+\\delta_{1}+\\delta_{2}}\n",
    "$$"
   ]
  },
  {
   "cell_type": "code",
   "execution_count": 20,
   "metadata": {},
   "outputs": [
    {
     "name": "stdout",
     "output_type": "stream",
     "text": [
      "0.9897385990664198\n"
     ]
    }
   ],
   "source": [
    "tau_m2 = ((1-beta_-delta_1-delta_2)*(1+f_)+delta_1+delta_2*C_p*T_t3/(C_pg*T_t45))/((1-beta_-delta_1-delta_2)*(1+f_)+delta_1+delta_2)\n",
    "print(tau_m2)"
   ]
  },
  {
   "cell_type": "markdown",
   "metadata": {},
   "source": [
    "$$\n",
    "T_{\\mathrm{t4c}}=\\tau_{\\mathrm{m} 2} \\times T_{\\mathrm{t4.5} }$$\n",
    "$$\n",
    "p_{\\mathrm{t} 5}=\\frac{p_{\\mathrm{t4.5}} }{\\pi_{\\mathrm{TL}}}$$ \n",
    "$$\\eta_{\\mathrm{TL}} =0.9282$$ \n",
    "$$\\frac{T_{\\mathrm{t} 5}}{T_{\\mathrm{th} c}}=1-\\left(1-\\frac{1}{\\pi_{\\mathrm{TL}}^\\frac{{\\mathrm{k_g-1}}}{k_g}}\\right) \\eta_{\\mathrm{TL}}$$\n",
    "$$\n",
    "T_{\\mathrm{t5}}=\\frac{T_{\\mathrm{i} 5}}{T_{\\mathrm{t4c}}} T_{\\mathrm{t4c}}\n",
    "$$"
   ]
  },
  {
   "cell_type": "code",
   "execution_count": 21,
   "metadata": {},
   "outputs": [
    {
     "name": "stdout",
     "output_type": "stream",
     "text": [
      "1173.6509831964058\n"
     ]
    }
   ],
   "source": [
    "T_t4c = tau_m2*T_t45\n",
    "print(T_t4c)"
   ]
  },
  {
   "cell_type": "code",
   "execution_count": 22,
   "metadata": {},
   "outputs": [],
   "source": [
    "pi_TL = linspace(2,8,100)"
   ]
  },
  {
   "cell_type": "code",
   "execution_count": 23,
   "metadata": {},
   "outputs": [],
   "source": [
    "eta_TL = 0.9282\n",
    "p_t5 = p_t45/pi_TL"
   ]
  },
  {
   "cell_type": "code",
   "execution_count": 24,
   "metadata": {},
   "outputs": [],
   "source": [
    "T_t5_5 = 1-(1-1/(pi_TL**((k_g-1)/k_g)))*eta_TL"
   ]
  },
  {
   "cell_type": "markdown",
   "metadata": {},
   "source": [
    "计算尾喷管出口参数\n",
    "\n",
    "尾喷管出口总温：\n",
    "$$\n",
    "T_{t9}=T_{t5}$$\n",
    "尾喷管出口总压：\n",
    "$$\n",
    "p_{t9}=0.98\\times p_{t5}\n",
    "$$"
   ]
  },
  {
   "cell_type": "code",
   "execution_count": 25,
   "metadata": {},
   "outputs": [],
   "source": [
    "T_t5 = T_t5_5*T_t4c\n",
    "T_t9 = T_t5\n",
    "p_t9=0.98*p_t5"
   ]
  },
  {
   "cell_type": "markdown",
   "metadata": {},
   "source": [
    "$$\n",
    "\\pi_{cr}={(\\frac{k_g+1}{2})}^{\\frac{k_g}{k_g-1}}\n",
    "$$"
   ]
  },
  {
   "cell_type": "code",
   "execution_count": 26,
   "metadata": {},
   "outputs": [
    {
     "data": {
      "text/plain": [
       "1.8324155765569177"
      ]
     },
     "execution_count": 26,
     "metadata": {},
     "output_type": "execute_result"
    }
   ],
   "source": [
    "pi_cr = ((k_g+1)/2)**(k_g/(k_g-1))\n",
    "pi_cr"
   ]
  },
  {
   "cell_type": "markdown",
   "metadata": {},
   "source": [
    "我们需要比较 $\\frac{p_{t9}}{p_0}$ 与 $\\pi_cr$ 的大小来判断临界状态。\n",
    "\n",
    "亚临界: $\\frac{p_{t9}}{p_0}<\\pi_cr\\Rightarrow Ma_9=\\sqrt{\\frac{2}{k_{\\mathrm{g}}-1}\\left[\\left(\\frac{p_{\\mathrm{t} 9}}{p_{0}}\\right)^{\\frac{k_{\\mathrm{g}}-1}{k_{\\mathrm{g}}}}-1\\right]}$\n",
    "\n",
    "超临界&临界: $\\frac{p_{t9}}{p_0}\\geq \\pi_cr \\Rightarrow Ma_9=1$ "
   ]
  },
  {
   "cell_type": "markdown",
   "metadata": {},
   "source": [
    "画出 $\\frac{p_{t9}}{p_0}$ 与 $\\pi_{TL}$的图像, 我们发现当 $\\pi_{TL}<4.2$时是超临界状态。 因此我们需要判断临界状态来确定$Ma_9$。"
   ]
  },
  {
   "cell_type": "code",
   "execution_count": 27,
   "metadata": {},
   "outputs": [
    {
     "data": {
      "image/png": "[encoded data removed]",
      "text/plain": [
       "<Figure size 864x576 with 1 Axes>"
      ]
     },
     "metadata": {
      "needs_background": "light"
     },
     "output_type": "display_data"
    }
   ],
   "source": [
    "Tp = p_t9/p_0\n",
    "fig,ax = subplots(figsize=(12,8))\n",
    "ax.plot(pi_TL,Tp)\n",
    "ax.hlines(pi_cr,2,10)\n",
    "ax.set_xlabel(\"$\\pi_{TL}$\", size=23)\n",
    "ax.set_ylabel(\"$p_{t9}/p_0$\", size=23)\n",
    "show()"
   ]
  },
  {
   "cell_type": "markdown",
   "metadata": {},
   "source": [
    "实现根据$\\frac{p_{t9}}{p_0}$计算$Ma_9$的算法："
   ]
  },
  {
   "cell_type": "code",
   "execution_count": 28,
   "metadata": {},
   "outputs": [],
   "source": [
    "Ma_9 = array([])\n",
    "for i in range(len(pi_TL)):\n",
    "    if Tp[i]<pi_cr:\n",
    "        m=((2/(k_g-1)*((p_t9[i]/p_0)**((k_g-1)/k_g)-1)))**0.5\n",
    "        Ma_9=append(Ma_9,m)\n",
    "    else:\n",
    "        m=1;\n",
    "        Ma_9 = append(Ma_9,1)"
   ]
  },
  {
   "cell_type": "markdown",
   "metadata": {},
   "source": [
    "尾喷管出口其他参数：\n",
    "$$\\frac{T_{\\mathrm{t9}}}{T_{9}}=\\left(1+\\frac{k_{\\mathrm{g}}-1}{2} M a_{9}^{2}\\right)$$\n",
    "\n",
    "$$T_{9}=\\frac{T_{9}}{T_{\\mathrm{t9}}} T_{\\mathrm{t9}} \\mathrm{K}$$\n",
    "\n",
    "$$a_{9}=\\sqrt{k_{\\mathrm{g}}RT_{9}}$$\n",
    "\n",
    "$$c_{9}= a_{9} M a_{9}$$"
   ]
  },
  {
   "cell_type": "code",
   "execution_count": 29,
   "metadata": {},
   "outputs": [],
   "source": [
    "T_t9_9 = (1+(k_g-1)/2*Ma_9**2)\n",
    "T_9 = T_t9/T_t9_9\n",
    "a_9 = (k_g*R*T_9)**0.5\n",
    "c_9=a_9*Ma_9"
   ]
  },
  {
   "cell_type": "markdown",
   "metadata": {},
   "source": [
    "喷气反作用力：\n",
    "$$\n",
    "F_{\\mathrm{s.j}}=\\frac{F_{\\mathrm{j}}}{W_{\\mathrm{a}}}=\\left[\\left(1-\\beta-\\delta_{1}-\\delta_{2}\\right)(1+f)+\\delta_{1}+\\delta_{2}\\right] c_{9}-c_{0}\n",
    "$$"
   ]
  },
  {
   "cell_type": "code",
   "execution_count": 30,
   "metadata": {},
   "outputs": [],
   "source": [
    "F_sj=((1-beta_-delta_1-delta_2)*(1+f_)+delta_1+delta_2)*c_9-c_0"
   ]
  },
  {
   "cell_type": "markdown",
   "metadata": {},
   "source": [
    "螺旋桨计算。螺旋桨从低压涡轮轴上获得的单位发动机空气质量流量功率为：\n",
    "$$\n",
    "\\frac{N_{\\mathrm{B}}}{W_{\\mathrm{a}}}=\\eta_{\\mathrm{g}}\\left[\\left(1-\\beta-\\delta_{1}-\\delta_{2}\\right)(1+f)+\\delta_{1}+\\delta_{2}\\right] C_{p \\mathrm{g}}\\left(T_{\\mathrm{t}, \\mathrm{4c}}-T_{\\mathrm{t5}}\\right)\n",
    "$$"
   ]
  },
  {
   "cell_type": "code",
   "execution_count": 31,
   "metadata": {},
   "outputs": [],
   "source": [
    "P=eta_g*((1-beta_-delta_1-delta_2)*(1+f_)+delta_1+delta_2)*C_pg*(T_t4c-T_t5)"
   ]
  },
  {
   "cell_type": "markdown",
   "metadata": {},
   "source": [
    "螺旋桨产生的单位拉力为：\n",
    "$$\n",
    "F_{\\mathrm{s}, \\mathrm{B}}=\\frac{F_{\\mathrm{B}}}{W_{\\mathrm{a}}}=\\frac{N_{\\mathrm{B}} \\eta_{\\mathrm{B}}}{W_{\\mathrm{a}} c_{0}}\n",
    "$$"
   ]
  },
  {
   "cell_type": "code",
   "execution_count": 32,
   "metadata": {},
   "outputs": [],
   "source": [
    "F_sB=P*eta_B/c_0"
   ]
  },
  {
   "cell_type": "markdown",
   "metadata": {},
   "source": [
    "整台发动机性能参数：\n",
    "\n",
    "单位推力：\n",
    "$$\n",
    "F_s=F_{s,j}+F_{s,B}\n",
    "$$"
   ]
  },
  {
   "cell_type": "code",
   "execution_count": 33,
   "metadata": {},
   "outputs": [],
   "source": [
    "F_s=1*(F_sj+F_sB)"
   ]
  },
  {
   "cell_type": "markdown",
   "metadata": {},
   "source": [
    "推力油耗率：\n",
    "$$\n",
    "\\mathrm{sfc}=\\frac{3600 \\mathrm{W}_{f}}{F}=\\frac{3600 f\\left(1-\\beta-\\delta_{1}-\\delta_{2}\\right)}{F_{s}} \n",
    "$$"
   ]
  },
  {
   "cell_type": "code",
   "execution_count": 34,
   "metadata": {},
   "outputs": [],
   "source": [
    "sfc=3600*f_*(1-beta_-delta_1-delta_2)/F_s"
   ]
  },
  {
   "cell_type": "markdown",
   "metadata": {},
   "source": [
    "当量功率油耗率：\n",
    "$$\n",
    "(\\mathrm{sfc})_{\\mathrm{e}}=\\frac{3600 \\mathrm{W}_f}{N_{\\mathrm{e}}}=\\frac{3600 f\\left(1-\\beta-\\delta_{1}-\\delta_{2}\\right)}{\\frac{N_{\\mathrm{B}}}{W_{\\mathrm{a}}}+\\frac{F_{\\mathrm{s}} c_{0}}{\\eta_{B}}} \n",
    "$$"
   ]
  },
  {
   "cell_type": "code",
   "execution_count": 35,
   "metadata": {},
   "outputs": [],
   "source": [
    "sfc_e=3600*f_*(1-beta_-delta_1-delta_2)/(P+c_0*F_s/eta_B)*1000"
   ]
  },
  {
   "cell_type": "markdown",
   "metadata": {},
   "source": [
    "绘制低压涡轮落压比对涡轮螺旋桨发动机单位推力和油耗率影响图。"
   ]
  },
  {
   "cell_type": "code",
   "execution_count": 36,
   "metadata": {},
   "outputs": [
    {
     "name": "stdout",
     "output_type": "stream",
     "text": [
      "7.2727272727272725\n"
     ]
    },
    {
     "data": {
      "image/png": "[encoded data removed]",
      "text/plain": [
       "<Figure size 1080x720 with 2 Axes>"
      ]
     },
     "metadata": {
      "needs_background": "light"
     },
     "output_type": "display_data"
    }
   ],
   "source": [
    "fig = figure(figsize = (15,10))\n",
    "ax = fig.add_subplot(111)\n",
    "ax.plot(pi_TL,F_s, '-', label = '$\\mathcal{F}_\\mathcal{s}$')\n",
    "ax2 = ax.twinx()\n",
    "ax2.plot(pi_TL,sfc, '-r', label = '$\\mathcal{sfc}$')\n",
    "\n",
    "\n",
    "font1 = {'size':23}\n",
    "ax.legend(loc=1, prop=font1)\n",
    "ax.grid()\n",
    "ax2.legend(loc=2, prop=font1)\n",
    "ax.tick_params(labelsize=15)\n",
    "ax2.tick_params(labelsize=15)\n",
    "\n",
    "\n",
    "ax.set_ylabel('$\\mathcal{F}_s$', size=23)\n",
    "ax2.set_ylabel('$\\mathcal{sfc}$', size=23)\n",
    "ax.set_xlabel('$\\mathcal{\\pi}_{TL}$', size=23)\n",
    "\n",
    "pi_TL_opt=pi_TL[np.argmin(sfc)]\n",
    "print(pi_TL_opt)\n",
    "ax2.hlines(min(sfc), 2, 8, 'black', linestyle=':')\n",
    "ax.vlines(pi_TL_opt, 1150, max(F_s), 'blue', linestyle = ':')\n",
    "ax.annotate('$\\mathcal{\\pi}_{TL}=$%f'%pi_TL_opt, xy=(pi_TL_opt, 1600), xycoords='data',\n",
    "             xytext=(6.2,1600),arrowprops=dict(facecolor='blue', shrink=2))\n",
    "ax.scatter(pi_TL_opt, max(F_s), c = 'black')\n",
    "ax2.scatter(pi_TL_opt, min(sfc), c = 'black')\n",
    "savefig('1.svg')\n",
    "show()"
   ]
  },
  {
   "cell_type": "code",
   "execution_count": 37,
   "metadata": {},
   "outputs": [
    {
     "data": {
      "text/plain": [
       "7.2727272727272725"
      ]
     },
     "execution_count": 37,
     "metadata": {},
     "output_type": "execute_result"
    }
   ],
   "source": [
    "pi_TL_opt=pi_TL[np.argmax(F_s)]\n",
    "pi_TL_opt"
   ]
  },
  {
   "cell_type": "markdown",
   "metadata": {},
   "source": [
    "绘制$\\Delta$和$\\pi_C$对$L_e$和$(sfc)_e$的影响"
   ]
  },
  {
   "cell_type": "code",
   "execution_count": 38,
   "metadata": {},
   "outputs": [],
   "source": [
    "Ma_0 = 0.72\n",
    "H = 10000\n",
    "T_t4 = 1600\n",
    "T_0 = 223.15\n",
    "p_0 = 26436.56\n",
    "pi_C = linspace(16,100,1000)\n",
    "\n",
    "sigma_i = 0.97\n",
    "eta_c = 0.8422\n",
    "eta_TH = 0.9064\n",
    "eta_TL = 0.9282\n",
    "sigma_b = 0.97\n",
    "eta_b = 0.98\n",
    "eta_mH = 0.98\n",
    "eta_mL = 0.98\n",
    "eta_B = 0.82\n",
    "eta_g = 0.99\n",
    "delta_1 = 0.05\n",
    "C_T0 = 0\n",
    "beta_ = 0\n",
    "C_p = 1004.6\n",
    "k = 1.4\n",
    "k_g = 1.3\n",
    "R = 287\n",
    "C_pg = 1234.8\n",
    "H_u = 42900000#焦耳\n",
    "sigma_e = 0.98\n",
    "delta_2=0.02\n",
    "pi_TL=pi_TL_opt\n",
    "\n",
    "a_0 = (k*R*T_0)**0.5\n",
    "c_0=Ma_0*a_0\n",
    "p_t0 = p_0*(1+(k-1)/2*Ma_0**2)**(k/(k-1))\n",
    "T_t0 = T_0*(1+(k-1)/2*Ma_0**2)\n",
    "p_t2 = sigma_i*p_t0\n",
    "T_t2 = T_t0\n",
    "p_t3 = p_t2*pi_C\n",
    "T_t3 = T_t2*(1+(pi_C**((k-1)/k)-1)/eta_c)\n",
    "f_ = (C_pg*T_t4-C_p*T_t3)/(eta_b*H_u-C_pg*T_t4)\n",
    "p_t4 = p_t3*sigma_b\n",
    "tao_m1 = ((1-beta_-delta_1-delta_2)*(1+f_) + C_p*delta_1*T_t3/(C_pg*T_t4))/((1-beta_-delta_1-delta_2)*(1+f_)+delta_1)\n",
    "T_t4a = T_t4*tao_m1\n",
    "p_t4a = p_t4\n",
    "a = 1 - C_p*(T_t3-T_t2)/(((1-beta_-delta_1-delta_2)*(1+f_)+delta_1)*eta_mH*C_pg*T_t4a)\n",
    "T_t45 = a*T_t4a\n",
    "pi_TH = (1-(1-T_t45/T_t4a)/eta_TH)**(-k_g/(k_g-1))\n",
    "p_t45 = p_t4a/pi_TH\n",
    "tao_m2 = ((1-beta_-delta_1-delta_2)*(1+f_)+delta_1+delta_2*C_p*T_t3/(C_pg*T_t45))/((1-beta_-delta_1-delta_2)*(1+f_)+delta_1+delta_2)\n",
    "T_t4c = tao_m2*T_t45\n",
    "eta_TL = 0.9282\n",
    "p_t5 = p_t45/pi_TL\n",
    "T_t5_5 = 1-(1-1/(pi_TL**((k_g-1)/k_g)))*eta_TL\n",
    "T_t5 = T_t5_5*T_t4c\n",
    "T_t9 = T_t5\n",
    "p_t9=0.98*p_t5\n",
    "Ma_9=((2/(k_g-1)*((p_t9/p_0)**((k_g-1)/k_g)-1)))**0.5\n",
    "T_t9_9 = (1+(k_g-1)/2*Ma_9**2)\n",
    "T_9 = T_t9/T_t9_9\n",
    "a_9 = (k_g*R*T_9)**0.5\n",
    "c_9=a_9*Ma_9\n",
    "F_sj=((1-beta_-delta_1-delta_2)*(1+f_)+delta_1+delta_2)*c_9-c_0\n",
    "P=eta_g*((1-beta_-delta_1-delta_2)*(1+f_)+delta_1+delta_2)*C_pg*(T_t4c-T_t5)\n",
    "F_sB=P*eta_B/c_0\n",
    "F_s=1*(F_sj+F_sB)\n",
    "sfc=3600*f_*(1-beta_-delta_1-delta_2)/F_s\n",
    "sfc_e=3600*f_*(1-beta_-delta_1-delta_2)/(P+c_0*F_s/eta_B)*1000"
   ]
  },
  {
   "cell_type": "code",
   "execution_count": 39,
   "metadata": {},
   "outputs": [],
   "source": [
    "pi_C = linspace(1,400,1000)\n",
    "e_ = pi_C**((k-1)/k)\n",
    "L_e = C_p*T_0*(T_t4/T_0-e_)*(1-1/e_)"
   ]
  },
  {
   "cell_type": "code",
   "execution_count": 40,
   "metadata": {},
   "outputs": [
    {
     "data": {
      "image/png": "[encoded data removed]",
      "text/plain": [
       "<Figure size 1080x720 with 3 Axes>"
      ]
     },
     "metadata": {
      "needs_background": "light"
     },
     "output_type": "display_data"
    }
   ],
   "source": [
    "fig = figure(figsize = (15,10))\n",
    "ax = fig.add_subplot(111)\n",
    "lns1 = ax.plot(pi_C,sfc, '-', label = '$sfc$')\n",
    "ax2 = ax.twinx()\n",
    "lns2 = ax2.plot(pi_C,F_s, '-r', label = '$F_s$')\n",
    "ax2.set_ylim(1300,2200)\n",
    "ax.set_xlabel('$\\pi_{C}$', size=23)\n",
    "ax3 = ax.twinx()\n",
    "lns3 = ax3.plot(pi_C, L_e, ':b',label = '$L_e$')\n",
    "ax2.vlines(pi_C[np.argmax(F_s, axis=0)],min(F_s),max(F_s),linestyle=':')\n",
    "\n",
    "ax2.annotate('$\\pi_c$%f'%pi_C[np.argmax(F_s, axis=0)], xy=(pi_C[np.argmax(F_s, axis=0)], min(F_s)+120), xycoords='data',\n",
    "             xytext=(pi_C[np.argmax(F_s, axis=0)]+20,min(F_s)+35),arrowprops=dict(facecolor='red', shrink=1))\n",
    "ax3.annotate('$\\pi_c=$%f'%pi_C[np.argmax(L_e, axis=0)], xy=(pi_C[np.argmax(L_e, axis=0)], min(L_e)+50000), xycoords='data',\n",
    "             xytext=(pi_C[np.argmax(L_e, axis=0)]+20,min(L_e)),arrowprops=dict(facecolor='blue', shrink=1))\n",
    "\n",
    "ax3.vlines(pi_C[np.argmax(L_e, axis=0)],min(L_e),max(L_e),linestyle=':')\n",
    "ax.spines['left'].set_position(('data', 1))\n",
    "ax2.spines['left'].set_position(('data', 1))\n",
    "ax3.spines['left'].set_position(('data', 1))\n",
    "\n",
    "ax.set_yticks([])\n",
    "ax2.set_yticks([])\n",
    "ax3.set_yticks([])\n",
    "\n",
    "lns = lns1+lns2+lns3\n",
    "labs = [l.get_label() for l in lns]\n",
    "font1 = {'size':23}\n",
    "ax.legend(lns, labs, loc=0, prop=font1)\n",
    "savefig('2.svg')\n",
    "show()"
   ]
  },
  {
   "cell_type": "code",
   "execution_count": 41,
   "metadata": {},
   "outputs": [],
   "source": [
    "pi_C = 25\n",
    "delta_ = linspace(6.5,9.5,100)"
   ]
  },
  {
   "cell_type": "code",
   "execution_count": 42,
   "metadata": {},
   "outputs": [],
   "source": [
    "Ma_0 = 0.72\n",
    "H = 10000\n",
    "T_0 = 223.15\n",
    "p_0 = 26436.56\n",
    "T_t4 = T_0*delta_\n",
    "\n",
    "sigma_i = 0.97\n",
    "eta_c = 0.8422\n",
    "eta_TH = 0.9064\n",
    "eta_TL = 0.9282\n",
    "sigma_b = 0.97\n",
    "eta_b = 0.98\n",
    "eta_mH = 0.98\n",
    "eta_mL = 0.98\n",
    "eta_B = 0.82\n",
    "eta_g = 0.99\n",
    "delta_1 = 0.05\n",
    "C_T0 = 0\n",
    "beta_ = 0\n",
    "C_p = 1004.6\n",
    "k = 1.4\n",
    "k_g = 1.3\n",
    "R = 287\n",
    "C_pg = 1234.8\n",
    "H_u = 42900000#焦耳\n",
    "sigma_e = 0.98\n",
    "delta_2=0.02\n",
    "pi_TL=pi_TL_opt\n",
    "\n",
    "a_0 = (k*R*T_0)**0.5\n",
    "c_0=Ma_0*a_0\n",
    "p_t0 = p_0*(1+(k-1)/2*Ma_0**2)**(k/(k-1))\n",
    "T_t0 = T_0*(1+(k-1)/2*Ma_0**2)\n",
    "p_t2 = sigma_i*p_t0\n",
    "T_t2 = T_t0\n",
    "p_t3 = p_t2*pi_C\n",
    "T_t3 = T_t2*(1+(pi_C**((k-1)/k)-1)/eta_c)\n",
    "f_ = (C_pg*T_t4-C_p*T_t3)/(eta_b*H_u-C_pg*T_t4)\n",
    "p_t4 = p_t3*sigma_b\n",
    "tao_m1 = ((1-beta_-delta_1-delta_2)*(1+f_) + C_p*delta_1*T_t3/(C_pg*T_t4))/((1-beta_-delta_1-delta_2)*(1+f_)+delta_1)\n",
    "T_t4a = T_t4*tao_m1\n",
    "p_t4a = p_t4\n",
    "a = 1 - C_p*(T_t3-T_t2)/(((1-beta_-delta_1-delta_2)*(1+f_)+delta_1)*eta_mH*C_pg*T_t4a)\n",
    "T_t45 = a*T_t4a\n",
    "pi_TH = (1-(1-T_t45/T_t4a)/eta_TH)**(-k_g/(k_g-1))\n",
    "p_t45 = p_t4a/pi_TH\n",
    "tao_m2 = ((1-beta_-delta_1-delta_2)*(1+f_)+delta_1+delta_2*C_p*T_t3/(C_pg*T_t45))/((1-beta_-delta_1-delta_2)*(1+f_)+delta_1+delta_2)\n",
    "T_t4c = tao_m2*T_t45\n",
    "eta_TL = 0.9282\n",
    "p_t5 = p_t45/pi_TL\n",
    "T_t5_5 = 1-(1-1/(pi_TL**((k_g-1)/k_g)))*eta_TL\n",
    "T_t5 = T_t5_5*T_t4c\n",
    "T_t9 = T_t5\n",
    "p_t9=0.98*p_t5\n",
    "Ma_9=((2/(k_g-1)*((p_t9/p_0)**((k_g-1)/k_g)-1)))**0.5\n",
    "T_t9_9 = (1+(k_g-1)/2*Ma_9**2)\n",
    "T_9 = T_t9/T_t9_9\n",
    "a_9 = (k_g*R*T_9)**0.5\n",
    "c_9=a_9*Ma_9\n",
    "F_sj=((1-beta_-delta_1-delta_2)*(1+f_)+delta_1+delta_2)*c_9-c_0\n",
    "P=eta_g*((1-beta_-delta_1-delta_2)*(1+f_)+delta_1+delta_2)*C_pg*(T_t4c-T_t5)\n",
    "F_sB=P*eta_B/c_0\n",
    "F_s=1*(F_sj+F_sB)\n",
    "sfc=3600*f_*(1-beta_-delta_1-delta_2)/F_s\n",
    "sfc_e=3600*f_*(1-beta_-delta_1-delta_2)/(P+c_0*F_s/eta_B)*1000"
   ]
  },
  {
   "cell_type": "code",
   "execution_count": 43,
   "metadata": {},
   "outputs": [],
   "source": [
    "e_ = pi_C**((k-1)/k)\n",
    "L_e = C_p*T_0*(T_t4/T_0-e_)*(1-1/e_)"
   ]
  },
  {
   "cell_type": "code",
   "execution_count": 44,
   "metadata": {},
   "outputs": [
    {
     "data": {
      "image/png": "[encoded data removed]",
      "text/plain": [
       "<Figure size 1080x720 with 3 Axes>"
      ]
     },
     "metadata": {
      "needs_background": "light"
     },
     "output_type": "display_data"
    }
   ],
   "source": [
    "fig = figure(figsize = (15,10))\n",
    "ax = fig.add_subplot(111)\n",
    "lns1 = ax.plot(delta_,sfc, '-', label = '$sfc$')\n",
    "ax2 = ax.twinx()\n",
    "lns2 = ax2.plot(delta_,sfc_e, '-r', label = '$(sfc)_e$')\n",
    "ax.set_xlabel('$\\Delta$', size=23)\n",
    "ax3 = ax.twinx()\n",
    "lns3 = ax3.plot(delta_, L_e, ':b',label = '$L_e$')\n",
    "lns = lns1+lns2+lns3\n",
    "labs = [l.get_label() for l in lns]\n",
    "font1 = {'size':23}\n",
    "ax.legend(lns, labs, loc=0, prop=font1)\n",
    "ax.set_xlim(6,10)\n",
    "ax3.set_ylim(485000,1000000)\n",
    "ax2.vlines(delta_[np.argmin(sfc_e, axis=0)],0.1038,min(sfc_e),linestyle=':')\n",
    "ax2.annotate('$\\Delta=$%f'%delta_[np.argmin(sfc_e, axis=0)], xy=(delta_[np.argmin(sfc_e, axis=0)], 0.1038), xycoords='data',\n",
    "             xytext=(delta_[np.argmin(sfc_e, axis=0)]+0.2,0.1038),arrowprops=dict(facecolor='black',))\n",
    "ax.set_yticks([])\n",
    "ax2.set_yticks([])\n",
    "ax3.set_yticks([])\n",
    "savefig('3.svg')\n",
    "show()"
   ]
  }
 ],
 "metadata": {
  "kernelspec": {
   "display_name": "Python 3",
   "language": "python",
   "name": "python3"
  },
  "language_info": {
   "codemirror_mode": {
    "name": "ipython",
    "version": 3
   },
   "file_extension": ".py",
   "mimetype": "text/x-python",
   "name": "python",
   "nbconvert_exporter": "python",
   "pygments_lexer": "ipython3",
   "version": "3.7.4"
  }
 },
 "nbformat": 4,
 "nbformat_minor": 4
}
